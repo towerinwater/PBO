{
 "cells": [
  {
   "cell_type": "markdown",
   "id": "ad2de274",
   "metadata": {},
   "source": [
    "#### Notes:\n",
    "\n",
    "\n",
    "<p>In this notebook, I will attempt to complete Exercise 2. It is intended to be readable by my teammates.</p> <br>"
   ]
  },
  {
   "cell_type": "markdown",
   "id": "d0c3c8d4",
   "metadata": {},
   "source": [
    "<u>Exercise 2:</u>\n",
    "\n",
    "<ol>\n",
    "    <li>Implement RLS and (1+1) EA introduced in w3</li>\n",
    "    <li>Run Random Search, RLS and (1+1) EA 10 times on the problems below.</li>\n",
    "</ol>\n",
    "\n",
    "\n",
    "<u> Problems </u>\n",
    "\n",
    "\\begin{equation}\n",
    "    \\begin{aligned}\n",
    "    \\text{F1 OM: } \\{0,1\\}^n \\to [0..n], x \\mapsto \\sum_{i=1}^{n}x_i \\\\ \n",
    "\n",
    "    \\text{F3 LO: } \\{0,1\\}^n \\to [0..n], x \\mapsto \\max{i \\in [0..n] | \\forall j\\leq i: x_j = 1} = \\sum_{i=1}^{n}\\prod_{j=1}^{i} x_j \\\\ \n",
    "\n",
    "    \\text{LHW: } f:\\{0,1\\}^n\\to \\R, x \\mapsto \\sum_{i}ix_i\n",
    "\n",
    "    \\text{LABS: }  x\\mapsto \\frac{n^2}{2\\sum_{k=1}^{n-1}(\\sum_{i=1}^{n-k}s_i s_{i+k})^2}, \\text{where } s_i = 2x_i - 1. \\\\\n",
    "    \n",
    "    \\text{N-Queens Problem}\\\\\n",
    "\n",
    "    \\text{Concentrated Trap}\\\\\n",
    "\n",
    "    \\text{NK Landscapes (NKL)}\\\\\n",
    "    \\end{aligned}\n",
    "\\end{equation}\n"
   ]
  },
  {
   "cell_type": "markdown",
   "id": "04895502",
   "metadata": {},
   "source": [
    "### **<u>Terminologies</u>**\n",
    "\n",
    "\n",
    "- `n`: (int) synonymous with the dimension of the problem or the problem size.\n",
    "- `budget`: (int) or the number of iterations or function evalutations. "
   ]
  },
  {
   "cell_type": "code",
   "execution_count": 26,
   "id": "1c2699a8",
   "metadata": {},
   "outputs": [],
   "source": [
    "import os \n",
    "import numpy as np \n",
    "from shutil import rmtree \n",
    "import glob "
   ]
  },
  {
   "cell_type": "code",
   "execution_count": 27,
   "id": "2b975c3d",
   "metadata": {},
   "outputs": [],
   "source": [
    "def clean():\n",
    "    for name in (\"my-experiment\", \"ioh_data\"):\n",
    "        for path in glob.glob(f\"{name}*\"):\n",
    "            if os.path.isfile(path):\n",
    "                os.remove(path)\n",
    "            if os.path.isdir(path):\n",
    "                rmtree(path, ignore_errors=True)\n",
    "\n",
    "\n",
    "def ls(p=\"./\"):\n",
    "    for obj in os.listdir(os.path.normpath(p)):\n",
    "        print(obj)\n",
    "\n",
    "\n",
    "def cat(f):\n",
    "    with open(os.path.normpath(f)) as h:\n",
    "        print(h.read())\n",
    "\n",
    "\n",
    "clean()"
   ]
  },
  {
   "cell_type": "code",
   "execution_count": 28,
   "id": "51f25c87",
   "metadata": {},
   "outputs": [],
   "source": [
    "import ioh \n",
    "from ioh import ProblemClass, logger "
   ]
  },
  {
   "cell_type": "code",
   "execution_count": 29,
   "id": "503812ed",
   "metadata": {},
   "outputs": [
    {
     "name": "stdout",
     "output_type": "stream",
     "text": [
      "{1: 'Sphere', 2: 'Ellipsoid', 3: 'Rastrigin', 4: 'BuecheRastrigin', 5: 'LinearSlope', 6: 'AttractiveSector', 7: 'StepEllipsoid', 8: 'Rosenbrock', 9: 'RosenbrockRotated', 10: 'EllipsoidRotated', 11: 'Discus', 12: 'BentCigar', 13: 'SharpRidge', 14: 'DifferentPowers', 15: 'RastriginRotated', 16: 'Weierstrass', 17: 'Schaffers10', 18: 'Schaffers1000', 19: 'GriewankRosenbrock', 20: 'Schwefel', 21: 'Gallagher101', 22: 'Gallagher21', 23: 'Katsuura', 24: 'LunacekBiRastrigin', 30: 'UniformStarDiscrepancy10', 31: 'UniformStarDiscrepancy25', 32: 'UniformStarDiscrepancy50', 33: 'UniformStarDiscrepancy100', 34: 'UniformStarDiscrepancy150', 35: 'UniformStarDiscrepancy200', 36: 'UniformStarDiscrepancy250', 37: 'UniformStarDiscrepancy500', 38: 'UniformStarDiscrepancy750', 39: 'UniformStarDiscrepancy1000', 40: 'SobolStarDiscrepancy10', 41: 'SobolStarDiscrepancy25', 42: 'SobolStarDiscrepancy50', 43: 'SobolStarDiscrepancy100', 44: 'SobolStarDiscrepancy150', 45: 'SobolStarDiscrepancy200', 46: 'SobolStarDiscrepancy250', 47: 'SobolStarDiscrepancy500', 48: 'SobolStarDiscrepancy750', 49: 'SobolStarDiscrepancy1000', 50: 'HaltonStarDiscrepancy10', 51: 'HaltonStarDiscrepancy25', 52: 'HaltonStarDiscrepancy50', 53: 'HaltonStarDiscrepancy100', 54: 'HaltonStarDiscrepancy150', 55: 'HaltonStarDiscrepancy200', 56: 'HaltonStarDiscrepancy250', 57: 'HaltonStarDiscrepancy500', 58: 'HaltonStarDiscrepancy750', 59: 'HaltonStarDiscrepancy1000', 1001: 'CEC2022Zakharov', 1002: 'CEC2022Rosenbrock', 1003: 'CEC2022SchafferF7', 1004: 'CEC2022Rastrigin', 1005: 'CEC2022Levy', 1006: 'CEC2022HybridFunction1', 1007: 'CEC2022HybridFunction2', 1008: 'CEC2022HybridFunction3', 1009: 'CEC2022CompositionFunction1', 1010: 'CEC2022CompositionFunction2', 1011: 'CEC2022CompositionFunction3', 1012: 'CEC2022CompositionFunction4', 1101: 'FivePeaks1101', 1102: 'EqualMaxima1102', 1103: 'UnevenEqualMaxima1103', 1104: 'Himmelblau1104', 1105: 'SixHumpCamelback1105', 1106: 'Shubert1106', 1107: 'Vincent1107', 1108: 'Shubert1108', 1109: 'Vincent1109', 1110: 'ModifiedRastrigin1110', 1111: 'CompositionFunction1111', 1112: 'CompositionFunction1112', 1113: 'CompositionFunction1113', 1114: 'CompositionFunction1114', 1115: 'CompositionFunction1115', 1116: 'CompositionFunction1116', 1117: 'CompositionFunction1117', 1118: 'CompositionFunction1118', 1119: 'CompositionFunction1119', 1120: 'CompositionFunction1120'}\n"
     ]
    }
   ],
   "source": [
    "#  a list of problem can be accessed via the base classes \n",
    "real_problems: dict[int, str] = ioh.problem.RealSingleObjective.problems \n",
    "print(real_problems)"
   ]
  },
  {
   "cell_type": "code",
   "execution_count": 30,
   "id": "aec26ced",
   "metadata": {},
   "outputs": [],
   "source": [
    "def compute_mean(X: np.ndarray) -> float:\n",
    "    return float(np.mean(X))\n",
    "\n",
    "\n",
    "def compute_sd(X: np.ndarray) -> float:\n",
    "    return float(np.std(X))"
   ]
  },
  {
   "cell_type": "code",
   "execution_count": 43,
   "id": "b05feafa",
   "metadata": {},
   "outputs": [],
   "source": [
    "def run_experiment(problem: ioh.problem.PBO, algorithm, num_runs = 10):\n",
    "    \"\"\"\n",
    "    Run an experiment of a given algorithm on a given problem for a number of runs (budget)\n",
    "    - `problem`: an ioh problem instance\n",
    "    - `algorithm`: a callable that takes a problem as input and runs the algorithm on it\n",
    "    - `num_runs`: number of independent runs to perform\n",
    "    \"\"\"\n",
    "    # For a known problem 18 w/ 32 variables, we know optimum = 8\n",
    "    if problem.meta_data.problem_id == 18 and problem.meta_data.n_variables == 32:\n",
    "        optimum = 8\n",
    "    else:\n",
    "        optimum = problem.optimum.y # otherwise, calculate optimum???\n",
    "    print(optimum)\n",
    "    # =============================================================\n",
    "\n",
    "\n",
    "    for run in range(num_runs):\n",
    "        # run the algorithm on the problem \n",
    "        algorithm(problem)\n",
    "\n",
    "        # print the best found for this run\n",
    "        print(f\"run: {run+1} - best found: {problem.state.current_best.y: .3f}\")\n",
    "\n",
    "        # reset the problem \n",
    "        problem.reset()"
   ]
  },
  {
   "cell_type": "code",
   "execution_count": 44,
   "metadata": {},
   "outputs": [],
   "source": [
    "# random search class \n",
    "class RandomSearch:\n",
    "    def __init__(self, budget: int) -> None:\n",
    "        \"\"\"\n",
    "        - `budget`: (int) number of function evaluations to perform\n",
    "        \"\"\"\n",
    "        self.budget = budget\n",
    "    \n",
    "    def __call__(self, problem_func: ioh.problem.PBO) -> None:\n",
    "        \"\"\"\n",
    "        - `problem`: an ioh problem instance\n",
    "        \"\"\"\n",
    "        for _ in range(self.budget):\n",
    "            # sample a random solution \n",
    "            X: np.ndarray = np.random.randint(2, size=problem_func.meta_data.n_variables) # randomized binary solution: a vector of 0s and 1s of length n_variables \n",
    "            # evaluate the solution \n",
    "            problem_func(X.tolist()) # unfortunately, ioh does not accept numpy arrays as input so we need to convert it to a list\n",
    "\n",
    "        return"
   ]
  },
  {
   "cell_type": "markdown",
   "id": "67b6373b",
   "metadata": {},
   "source": [
    "#### Gather the required problems "
   ]
  },
  {
   "cell_type": "code",
   "execution_count": 45,
   "id": "f3cc56ef",
   "metadata": {},
   "outputs": [],
   "source": [
    "n = problem_size = 100 "
   ]
  },
  {
   "cell_type": "code",
   "execution_count": 46,
   "metadata": {},
   "outputs": [],
   "source": [
    "p1 = ioh.get_problem(fid=1, \n",
    "                    dimension=n,\n",
    "                    instance=1,\n",
    "                    problem_class=ProblemClass.PBO)  # pyright: ignore[reportCallIssue] # Sphere\n",
    "# grab problem 2 \n",
    "p2 = ioh.get_problem(fid=2, \n",
    "                    dimension=n,\n",
    "                    instance=1,\n",
    "                    problem_class=ProblemClass.PBO)  # pyright: ignore[reportCallIssue] # \n",
    "# grab problem 3 \n",
    "p3 = ioh.get_problem(fid=3, \n",
    "                    dimension=n,\n",
    "                    instance=1,\n",
    "                    problem_class=ProblemClass.PBO)  # pyright: ignore[reportCallIssue] #\n",
    "# grab problem 18 \n",
    "p18 = ioh.get_problem(fid=18, \n",
    "                     dimension=n,\n",
    "                     instance=1,\n",
    "                     problem_class=ProblemClass.PBO)  # pyright: ignore[reportCallIssue] #\n",
    "\n",
    "# grab problem 23 \n",
    "p23 = ioh.get_problem(fid=23, \n",
    "                     dimension=n,\n",
    "                     instance=1,\n",
    "                     problem_class=ProblemClass.PBO)  # pyright: ignore[reportCallIssue] #\n",
    "\n",
    "# grab problem 23 \n",
    "p24 = ioh.get_problem(fid=24, \n",
    "                     dimension=n,\n",
    "                     instance=1,\n",
    "                     problem_class=ProblemClass.PBO)  # pyright: ignore[reportCallIssue] #\n",
    "\n",
    "# grab problem 24\n",
    "p24 = ioh.get_problem(fid=24,\n",
    "                     dimension=n,\n",
    "                     instance=1,\n",
    "                     problem_class=ProblemClass.PBO)  # pyright: ignore[reportCallIssue] #\n",
    "\n",
    "# grab problem 25\n",
    "p25 = ioh.get_problem(fid=25,\n",
    "                     dimension=n,\n",
    "                     instance=1,\n",
    "                     problem_class=ProblemClass.PBO)  # pyright: ignore[reportCallIssue]\n",
    "\n",
    "# A list of the whole problems \n",
    "Problems: list[ioh.problem.PBO] = [p1, p2, p3, p18, p23, p24, p25]"
   ]
  },
  {
   "cell_type": "code",
   "execution_count": 47,
   "id": "ce045983",
   "metadata": {},
   "outputs": [],
   "source": [
    "# create a list of 3 loggers for each algorithm -- Random Search, RLS (random local search) and (1+1)-EA\n",
    "root_folder = \"my-experiment\"  # pyright: ignore[reportArgumentType]\n",
    "if os.path.exists(root_folder):\n",
    "    rmtree(root_folder, ignore_errors=True)\n",
    "\n",
    "folder_name: str = \"run\"\n",
    "algorithm_names: list[str] = [\"RandomSearch\", \"RLS\", \"OnePlusOneEA\"]\n",
    "# info should be a short description of the algorithm\n",
    "algorithm_info = [\n",
    "    \"Random Search Algorithm\",\n",
    "    \"Random Local Search Algorithm\",\n",
    "    \"(1+1)-EA Algorithm\"\n",
    "]\n",
    "\n",
    "# for name in algorithm_names:"
   ]
  },
  {
   "cell_type": "code",
   "execution_count": 48,
   "id": "8d525f47",
   "metadata": {},
   "outputs": [],
   "source": [
    "budget = num_iterations = 100000 # budget is the number of function evaluations"
   ]
  },
  {
   "cell_type": "code",
   "execution_count": 53,
   "id": "6664e9c2",
   "metadata": {},
   "outputs": [],
   "source": [
    "Loggers: list[logger.Analyzer] = []\n",
    "# create a list of loggers for each algorithm\n",
    "for i, name in enumerate(algorithm_names):\n",
    "    Loggers.append(\n",
    "        logger.Analyzer(\n",
    "            root=root_folder,  # pyright: ignore[reportArgumentType]\n",
    "            folder_name=folder_name,\n",
    "            algorithm_name=name,\n",
    "            algorithm_info=algorithm_info[i]\n",
    "        )\n",
    "    )\n",
    "\n",
    "L_random_search = Loggers[0]\n",
    "L_RLS = Loggers[1]\n",
    "L_OnePlusOneEA = Loggers[2]"
   ]
  },
  {
   "cell_type": "markdown",
   "id": "bc113ef9",
   "metadata": {},
   "source": [
    "#### testing randoms search on problem 1"
   ]
  },
  {
   "cell_type": "code",
   "execution_count": null,
   "id": "13ab5e54",
   "metadata": {},
   "outputs": [],
   "source": [
    "num_experiments: int = 10 \n",
    "p1.attach_logger(L_random_search)\n",
    "algorithm = RandomSearch(budget=budget)\n",
    "run_experiment(problem=p1, \n",
    "            algorithm=algorithm, \n",
    "            num_runs=num_experiments)\n"
   ]
  },
  {
   "cell_type": "markdown",
   "id": "11ad9c55",
   "metadata": {},
   "source": [
    "### Run random search on all our problems (fingers crossed!)"
   ]
  },
  {
   "cell_type": "code",
   "execution_count": 58,
   "metadata": {},
   "outputs": [
    {
     "name": "stdout",
     "output_type": "stream",
     "text": [
      "========================================\n",
      "100.0\n",
      "run: 1 - best found:  73.000\n",
      "run: 2 - best found:  72.000\n",
      "run: 3 - best found:  71.000\n",
      "run: 4 - best found:  71.000\n",
      "run: 5 - best found:  71.000\n",
      "run: 6 - best found:  76.000\n",
      "run: 7 - best found:  71.000\n",
      "run: 8 - best found:  71.000\n",
      "run: 9 - best found:  70.000\n",
      "run: 10 - best found:  71.000\n",
      "========================================\n",
      "========================================\n",
      "100.0\n",
      "run: 1 - best found:  17.000\n",
      "run: 2 - best found:  17.000\n",
      "run: 3 - best found:  18.000\n",
      "run: 4 - best found:  17.000\n",
      "run: 5 - best found:  20.000\n",
      "run: 6 - best found:  16.000\n",
      "run: 7 - best found:  19.000\n",
      "run: 8 - best found:  17.000\n",
      "run: 9 - best found:  18.000\n",
      "run: 10 - best found:  23.000\n",
      "========================================\n",
      "========================================\n",
      "5050.0\n",
      "run: 1 - best found:  3737.000\n",
      "run: 2 - best found:  3678.000\n",
      "run: 3 - best found:  3674.000\n",
      "run: 4 - best found:  3790.000\n",
      "run: 5 - best found:  3722.000\n",
      "run: 6 - best found:  3705.000\n",
      "run: 7 - best found:  3773.000\n",
      "run: 8 - best found:  3748.000\n",
      "run: 9 - best found:  3763.000\n",
      "run: 10 - best found:  3802.000\n",
      "========================================\n",
      "========================================\n",
      "inf\n",
      "run: 1 - best found:  2.430\n",
      "run: 2 - best found:  2.347\n",
      "run: 3 - best found:  2.411\n",
      "run: 4 - best found:  2.271\n",
      "run: 5 - best found:  2.370\n",
      "run: 6 - best found:  2.283\n",
      "run: 7 - best found:  2.503\n",
      "run: 8 - best found:  2.425\n",
      "run: 9 - best found:  2.959\n",
      "run: 10 - best found:  2.430\n",
      "========================================\n",
      "========================================\n",
      "10.0\n",
      "run: 1 - best found: -592.000\n",
      "run: 2 - best found: -641.000\n",
      "run: 3 - best found: -621.000\n",
      "run: 4 - best found: -622.000\n",
      "run: 5 - best found: -630.000\n",
      "run: 6 - best found: -699.000\n",
      "run: 7 - best found: -689.000\n",
      "run: 8 - best found: -622.000\n",
      "run: 9 - best found: -660.000\n",
      "run: 10 - best found: -632.000\n",
      "========================================\n",
      "========================================\n",
      "20.0\n",
      "run: 1 - best found:  11.800\n",
      "run: 2 - best found:  11.800\n",
      "run: 3 - best found:  12.200\n",
      "run: 4 - best found:  12.000\n",
      "run: 5 - best found:  12.000\n",
      "run: 6 - best found:  11.600\n",
      "run: 7 - best found:  11.600\n",
      "run: 8 - best found:  12.000\n",
      "run: 9 - best found:  12.200\n",
      "run: 10 - best found:  11.400\n",
      "========================================\n",
      "========================================\n",
      "inf\n",
      "run: 1 - best found: -0.405\n",
      "run: 2 - best found: -0.401\n",
      "run: 3 - best found: -0.408\n",
      "run: 4 - best found: -0.402\n",
      "run: 5 - best found: -0.407\n",
      "run: 6 - best found: -0.407\n",
      "run: 7 - best found: -0.404\n",
      "run: 8 - best found: -0.400\n",
      "run: 9 - best found: -0.411\n",
      "run: 10 - best found: -0.411\n",
      "========================================\n"
     ]
    }
   ],
   "source": [
    "for problem in Problems:\n",
    "    L_random_search = Loggers[0]\n",
    "    print(f\"========================================\")\n",
    "    # for logger_instance in Loggers:\n",
    "    #     problem.attach_logger(logger_instance)\n",
    "    problem.attach_logger(L_random_search)\n",
    "    # run random search\n",
    "    run_experiment(problem=problem, \n",
    "                algorithm=RandomSearch(budget=budget), \n",
    "                num_runs=num_experiments)\n",
    "    print(\"========================================\")\n",
    "    del L_random_search"
   ]
  },
  {
   "cell_type": "code",
   "execution_count": null,
   "metadata": {},
   "outputs": [],
   "source": []
  },
  {
   "cell_type": "code",
   "execution_count": null,
   "id": "8153dd8e",
   "metadata": {},
   "outputs": [],
   "source": []
  },
  {
   "cell_type": "code",
   "execution_count": null,
   "id": "c0a258c3",
   "metadata": {},
   "outputs": [],
   "source": []
  },
  {
   "cell_type": "code",
   "execution_count": null,
   "id": "7ff03eb8",
   "metadata": {},
   "outputs": [],
   "source": []
  },
  {
   "cell_type": "code",
   "execution_count": null,
   "id": "65b58f99",
   "metadata": {},
   "outputs": [],
   "source": []
  }
 ],
 "metadata": {
  "kernelspec": {
   "display_name": "PBO",
   "language": "python",
   "name": "python3"
  },
  "language_info": {
   "codemirror_mode": {
    "name": "ipython",
    "version": 3
   },
   "file_extension": ".py",
   "mimetype": "text/x-python",
   "name": "python",
   "nbconvert_exporter": "python",
   "pygments_lexer": "ipython3",
   "version": "3.12.10"
  }
 },
 "nbformat": 4,
 "nbformat_minor": 5
}
