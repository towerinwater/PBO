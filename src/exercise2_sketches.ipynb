{
 "cells": [
  {
   "cell_type": "markdown",
   "id": "ad2de274",
   "metadata": {},
   "source": [
    "#### <u><font color=\"orange\">**Notes:**</font></u>\n",
    "\n",
    "\n",
    "<p>In this notebook, I will attempt to complete Exercise 2. It is intended to be readable by my teammates.</p> <br>"
   ]
  },
  {
   "cell_type": "markdown",
   "id": "d0c3c8d4",
   "metadata": {},
   "source": [
    "## <u>Exercise 2:</u>\n",
    "\n",
    "<ol>\n",
    "    <li>Implement RLS and (1+1) EA introduced in w3</li>\n",
    "    <li>Run Random Search, RLS and (1+1) EA 10 times on the problems below.</li>\n",
    "</ol>\n",
    "\n",
    "\n",
    "## <u> Problems </u>\n",
    "\n",
    "<p>Problems and functions will be used almost synonymously throughout this notebook. But more formally speaking, below are optimization problems, and the functions alone (starting with F) are not problems themselves, per sé (this should not be the first time we ask what a <i>problem</i> is -- think of decision problems in ADSA.). It is the idea or act of wanting to minimize or maximize them is the <b>problem.</b></p>\n",
    "\n",
    "$$\n",
    "\\begin{array}{ll}\n",
    "\\text{F1 -- OM: } & \\{0,1\\}^n \\to [0..n], x \\mapsto \\sum_{i=1}^{n}x_i \\\\\n",
    "\\text{F2 -- LO: } & \\{0,1\\}^n \\to [0..n], x \\mapsto \\max{i \\in [0..n] | \\forall j\\leq i: x_j = 1} = \\sum_{i=1}^{n}\\prod_{j=1}^{i} x_j \\\\\n",
    "\\text{F3 -- LHW: } & f:\\{0,1\\}^n\\to \\R, x \\mapsto \\sum_{i}ix_i \\\\\n",
    "\\text{F18 -- LABS: } & x\\mapsto \\frac{n^2}{2\\sum_{k=1}^{n-1}(\\sum_{i=1}^{n-k}s_i s_{i+k})^2}, \\text{where } s_i = 2x_i - 1. \\\\\n",
    "\\text{F23 -- N-Queens Problem} & \\\\\n",
    "\\text{F24 -- Concentrated Trap} & \\\\\n",
    "\\text{F25 -- NK Landscapes (NKL)} &\n",
    "\\end{array}\n",
    "$$\n"
   ]
  },
  {
   "cell_type": "markdown",
   "id": "04895502",
   "metadata": {},
   "source": [
    "### **<u>Terminologies and Definitions</u>**\n",
    "\n",
    "\n",
    "- `n` (int) := synonymous with the dimension of the problem or the problem size.\n",
    "- `budget` (int) := (int) or the number of iterations or function evalutations. "
   ]
  },
  {
   "cell_type": "code",
   "execution_count": 1,
   "id": "1c2699a8",
   "metadata": {},
   "outputs": [],
   "source": [
    "import os \n",
    "import numpy as np \n",
    "from shutil import rmtree \n",
    "import glob "
   ]
  },
  {
   "cell_type": "code",
   "execution_count": 2,
   "id": "2b975c3d",
   "metadata": {},
   "outputs": [],
   "source": [
    "def clean():\n",
    "    for name in (\"my-experiment\", \"ioh_data\"):\n",
    "        for path in glob.glob(f\"{name}*\"):\n",
    "            if os.path.isfile(path):\n",
    "                os.remove(path)\n",
    "            if os.path.isdir(path):\n",
    "                rmtree(path, ignore_errors=True)\n",
    "\n",
    "\n",
    "def ls(p=\"./\"):\n",
    "    for obj in os.listdir(os.path.normpath(p)):\n",
    "        print(obj)\n",
    "\n",
    "\n",
    "def cat(f):\n",
    "    with open(os.path.normpath(f)) as h:\n",
    "        print(h.read())\n",
    "\n",
    "\n",
    "clean()"
   ]
  },
  {
   "cell_type": "code",
   "execution_count": 3,
   "id": "51f25c87",
   "metadata": {},
   "outputs": [],
   "source": [
    "import ioh \n",
    "from ioh import ProblemClass, logger "
   ]
  },
  {
   "cell_type": "code",
   "execution_count": 4,
   "id": "503812ed",
   "metadata": {},
   "outputs": [
    {
     "name": "stdout",
     "output_type": "stream",
     "text": [
      "{1: 'Sphere', 2: 'Ellipsoid', 3: 'Rastrigin', 4: 'BuecheRastrigin', 5: 'LinearSlope', 6: 'AttractiveSector', 7: 'StepEllipsoid', 8: 'Rosenbrock', 9: 'RosenbrockRotated', 10: 'EllipsoidRotated', 11: 'Discus', 12: 'BentCigar', 13: 'SharpRidge', 14: 'DifferentPowers', 15: 'RastriginRotated', 16: 'Weierstrass', 17: 'Schaffers10', 18: 'Schaffers1000', 19: 'GriewankRosenbrock', 20: 'Schwefel', 21: 'Gallagher101', 22: 'Gallagher21', 23: 'Katsuura', 24: 'LunacekBiRastrigin', 30: 'UniformStarDiscrepancy10', 31: 'UniformStarDiscrepancy25', 32: 'UniformStarDiscrepancy50', 33: 'UniformStarDiscrepancy100', 34: 'UniformStarDiscrepancy150', 35: 'UniformStarDiscrepancy200', 36: 'UniformStarDiscrepancy250', 37: 'UniformStarDiscrepancy500', 38: 'UniformStarDiscrepancy750', 39: 'UniformStarDiscrepancy1000', 40: 'SobolStarDiscrepancy10', 41: 'SobolStarDiscrepancy25', 42: 'SobolStarDiscrepancy50', 43: 'SobolStarDiscrepancy100', 44: 'SobolStarDiscrepancy150', 45: 'SobolStarDiscrepancy200', 46: 'SobolStarDiscrepancy250', 47: 'SobolStarDiscrepancy500', 48: 'SobolStarDiscrepancy750', 49: 'SobolStarDiscrepancy1000', 50: 'HaltonStarDiscrepancy10', 51: 'HaltonStarDiscrepancy25', 52: 'HaltonStarDiscrepancy50', 53: 'HaltonStarDiscrepancy100', 54: 'HaltonStarDiscrepancy150', 55: 'HaltonStarDiscrepancy200', 56: 'HaltonStarDiscrepancy250', 57: 'HaltonStarDiscrepancy500', 58: 'HaltonStarDiscrepancy750', 59: 'HaltonStarDiscrepancy1000', 1001: 'CEC2022Zakharov', 1002: 'CEC2022Rosenbrock', 1003: 'CEC2022SchafferF7', 1004: 'CEC2022Rastrigin', 1005: 'CEC2022Levy', 1006: 'CEC2022HybridFunction1', 1007: 'CEC2022HybridFunction2', 1008: 'CEC2022HybridFunction3', 1009: 'CEC2022CompositionFunction1', 1010: 'CEC2022CompositionFunction2', 1011: 'CEC2022CompositionFunction3', 1012: 'CEC2022CompositionFunction4', 1101: 'FivePeaks1101', 1102: 'EqualMaxima1102', 1103: 'UnevenEqualMaxima1103', 1104: 'Himmelblau1104', 1105: 'SixHumpCamelback1105', 1106: 'Shubert1106', 1107: 'Vincent1107', 1108: 'Shubert1108', 1109: 'Vincent1109', 1110: 'ModifiedRastrigin1110', 1111: 'CompositionFunction1111', 1112: 'CompositionFunction1112', 1113: 'CompositionFunction1113', 1114: 'CompositionFunction1114', 1115: 'CompositionFunction1115', 1116: 'CompositionFunction1116', 1117: 'CompositionFunction1117', 1118: 'CompositionFunction1118', 1119: 'CompositionFunction1119', 1120: 'CompositionFunction1120'}\n"
     ]
    }
   ],
   "source": [
    "#  a list of problem can be accessed via the base classes \n",
    "real_problems: dict[int, str] = ioh.problem.RealSingleObjective.problems \n",
    "print(real_problems)"
   ]
  },
  {
   "cell_type": "code",
   "execution_count": 5,
   "id": "aec26ced",
   "metadata": {},
   "outputs": [],
   "source": [
    "def compute_mean(X: np.ndarray) -> float:\n",
    "    return float(np.mean(X))\n",
    "\n",
    "\n",
    "def compute_sd(X: np.ndarray) -> float:\n",
    "    return float(np.std(X))"
   ]
  },
  {
   "cell_type": "code",
   "execution_count": 6,
   "id": "b05feafa",
   "metadata": {},
   "outputs": [],
   "source": [
    "def run_experiment(problem: ioh.problem.PBO, algorithm, num_runs = 10):\n",
    "    \"\"\"\n",
    "    Run an experiment of a given algorithm on a given problem for a number of runs (budget)\n",
    "    - `problem`: an ioh problem instance\n",
    "    - `algorithm`: a callable that takes a problem as input and runs the algorithm on it\n",
    "    - `num_runs`: number of independent runs to perform\n",
    "    \"\"\"\n",
    "    # For a known problem 18 w/ 32 variables, we know optimum = 8\n",
    "    if problem.meta_data.problem_id == 18 and problem.meta_data.n_variables == 32:\n",
    "        optimum = 8\n",
    "    else:\n",
    "        optimum = problem.optimum.y # otherwise, calculate optimum???\n",
    "    print(optimum)\n",
    "    # =============================================================\n",
    "\n",
    "\n",
    "    for run in range(num_runs):\n",
    "        # run the algorithm on the problem \n",
    "        algorithm(problem)\n",
    "\n",
    "        # print the best found for this run\n",
    "        print(f\"run: {run+1} - best found: {problem.state.current_best.y: .3f}\")\n",
    "\n",
    "        # reset the problem \n",
    "        problem.reset()"
   ]
  },
  {
   "cell_type": "markdown",
   "id": "a91c3513",
   "metadata": {},
   "source": [
    "### <u>Let's begin implementing our algorithms</u>"
   ]
  },
  {
   "cell_type": "code",
   "execution_count": 7,
   "id": "c0e42363",
   "metadata": {},
   "outputs": [],
   "source": [
    "# implement randomized local search \n",
    "class RandomizedLocalSearch:\n",
    "    def __init__(self, budget: int, name: str = \"RLS\", algorithm_info: str = \"Randomized Local Search\"):\n",
    "        self.budget = budget\n",
    "        self.name = name\n",
    "        self.algorithm_info = algorithm_info\n",
    "\n",
    "    def __call__(self, problem: ioh.problem.PBO) -> None:\n",
    "        # initialize a random solution \n",
    "        current = np.random.randint(0, 2, size=problem.meta_data.n_variables)\n",
    "        current_value = problem(current.tolist())\n",
    "        evaluations = 1\n",
    "\n",
    "        while evaluations <= self.budget:\n",
    "            # create a neighbor by flipping one random bit\n",
    "            neighbor = current.copy()\n",
    "            flip_index = np.random.randint(0, problem.meta_data.n_variables)\n",
    "            neighbor[flip_index] = 1 - neighbor[flip_index] # flip the bit\n",
    "            neighbor_value = problem(neighbor)\n",
    "            evaluations += 1\n",
    "\n",
    "            # if the neighbor is better or equal, move to the neighbor\n",
    "            if neighbor_value >= current_value:\n",
    "                current, current_value = neighbor, neighbor_value"
   ]
  },
  {
   "cell_type": "code",
   "execution_count": 8,
   "id": "aaf0f677",
   "metadata": {},
   "outputs": [],
   "source": [
    "# implement (1+1) EA\n",
    "class OnePlusOneEA:\n",
    "    def __init__(self, budget: int, name: str = \"OnePlusOneEA\", algorithm_info: str = \"(1+1) Evolutionary Algorithm\"):\n",
    "        self.budget = budget\n",
    "        self.name = name\n",
    "        self.algorithm_info = algorithm_info\n",
    "\n",
    "    def __call__(self, problem: ioh.problem.PBO) -> None:\n",
    "        # initialize a random solution \n",
    "        current = np.random.randint(0, 2, size=problem.meta_data.n_variables)\n",
    "        current_value = problem(current.tolist())\n",
    "        evaluations = 1\n",
    "\n",
    "        while evaluations <= self.budget:\n",
    "            # create an offspring by flipping each bit with probability 1/n\n",
    "            offspring = current.copy()\n",
    "            for i in range(problem.meta_data.n_variables):\n",
    "                if np.random.rand() < 1 / problem.meta_data.n_variables:\n",
    "                    offspring[i] = 1 - offspring[i] # flip the bit\n",
    "            offspring_value = problem(offspring)\n",
    "            evaluations += 1\n",
    "\n",
    "            # if the offspring is better or equal, move to the offspring\n",
    "            if offspring_value >= current_value:\n",
    "                current, current_value = offspring, offspring_value"
   ]
  },
  {
   "cell_type": "code",
   "execution_count": 9,
   "metadata": {},
   "outputs": [],
   "source": [
    "# random search class \n",
    "class RandomSearch:\n",
    "    def __init__(self, budget: int, name: str = \"RandomSearch\", algorithm_info: str = \"Random Search Algorithm\") -> None:\n",
    "        \"\"\"\n",
    "        - `budget`: (int) number of function evaluations to perform\n",
    "        \"\"\"\n",
    "        self.budget = budget\n",
    "        self.name = name\n",
    "        self.algorithm_info = algorithm_info\n",
    "\n",
    "    def __call__(self, problem_func: ioh.problem.PBO) -> None:\n",
    "        \"\"\"\n",
    "        - `problem`: an ioh problem instance\n",
    "        \"\"\"\n",
    "        for _ in range(self.budget):\n",
    "            # sample a random solution \n",
    "            X: np.ndarray = np.random.randint(2, size=problem_func.meta_data.n_variables) # randomized binary solution: a vector of 0s and 1s of length n_variables \n",
    "            # evaluate the solution \n",
    "            problem_func(X.tolist()) # unfortunately, ioh does not accept numpy arrays as input so we need to convert it to a list\n"
   ]
  },
  {
   "cell_type": "markdown",
   "id": "67b6373b",
   "metadata": {},
   "source": [
    "#### Gather the required problems "
   ]
  },
  {
   "cell_type": "code",
   "execution_count": 10,
   "id": "f3cc56ef",
   "metadata": {},
   "outputs": [],
   "source": [
    "n = problem_size = 100 "
   ]
  },
  {
   "cell_type": "code",
   "execution_count": 11,
   "metadata": {},
   "outputs": [],
   "source": [
    "p1 = ioh.get_problem(fid=1, \n",
    "                    dimension=n,\n",
    "                    instance=1,\n",
    "                    problem_class=ProblemClass.PBO)  # pyright: ignore[reportCallIssue] # Sphere\n",
    "# grab problem 2 \n",
    "p2 = ioh.get_problem(fid=2, \n",
    "                    dimension=n,\n",
    "                    instance=1,\n",
    "                    problem_class=ProblemClass.PBO)  # pyright: ignore[reportCallIssue] # \n",
    "# grab problem 3 \n",
    "p3 = ioh.get_problem(fid=3, \n",
    "                    dimension=n,\n",
    "                    instance=1,\n",
    "                    problem_class=ProblemClass.PBO)  # pyright: ignore[reportCallIssue] #\n",
    "# grab problem 18 \n",
    "p18 = ioh.get_problem(fid=18, \n",
    "                     dimension=n,\n",
    "                     instance=1,\n",
    "                     problem_class=ProblemClass.PBO)  # pyright: ignore[reportCallIssue] #\n",
    "\n",
    "# grab problem 23 \n",
    "p23 = ioh.get_problem(fid=23, \n",
    "                     dimension=n,\n",
    "                     instance=1,\n",
    "                     problem_class=ProblemClass.PBO)  # pyright: ignore[reportCallIssue] #\n",
    "\n",
    "# grab problem 23 \n",
    "p24 = ioh.get_problem(fid=24, \n",
    "                     dimension=n,\n",
    "                     instance=1,\n",
    "                     problem_class=ProblemClass.PBO)  # pyright: ignore[reportCallIssue] #\n",
    "\n",
    "# grab problem 24\n",
    "p24 = ioh.get_problem(fid=24,\n",
    "                     dimension=n,\n",
    "                     instance=1,\n",
    "                     problem_class=ProblemClass.PBO)  # pyright: ignore[reportCallIssue] #\n",
    "\n",
    "# grab problem 25\n",
    "p25 = ioh.get_problem(fid=25,\n",
    "                     dimension=n,\n",
    "                     instance=1,\n",
    "                     problem_class=ProblemClass.PBO)  # pyright: ignore[reportCallIssue]\n",
    "\n",
    "# A list of the whole problems \n",
    "Problems: list[ioh.problem.PBO] = [p1, p2, p3, p18, p23, p24, p25]"
   ]
  },
  {
   "cell_type": "code",
   "execution_count": 13,
   "id": "ce045983",
   "metadata": {},
   "outputs": [],
   "source": [
    "# create a list of 3 loggers for each algorithm -- Random Search, RLS (random local search) and (1+1)-EA\n",
    "root_folder = \"my-experiment\"  # pyright: ignore[reportArgumentType]\n",
    "if os.path.exists(root_folder):\n",
    "    rmtree(root_folder, ignore_errors=True)\n",
    "\n",
    "folder_name: str = \"run\"\n",
    "algorithm_names: list[str] = [\"RandomSearch\", \"RLS\", \"OnePlusOneEA\"]\n",
    "# info should be a short description of the algorithm\n",
    "algorithm_info = [\n",
    "    \"Random Search Algorithm\",\n",
    "    \"Random Local Search Algorithm\",\n",
    "    \"(1+1)-EA Algorithm\"\n",
    "]\n",
    "\n",
    "# for name in algorithm_names:"
   ]
  },
  {
   "cell_type": "code",
   "execution_count": 14,
   "id": "8d525f47",
   "metadata": {},
   "outputs": [],
   "source": [
    "budget = num_iterations = 100000 # budget is the number of function evaluations"
   ]
  },
  {
   "cell_type": "code",
   "execution_count": 15,
   "id": "b677f90a",
   "metadata": {},
   "outputs": [],
   "source": [
    "num_experiments = 10 # number of independent runs"
   ]
  },
  {
   "cell_type": "code",
   "execution_count": 16,
   "id": "6664e9c2",
   "metadata": {},
   "outputs": [],
   "source": [
    "Loggers: list[logger.Analyzer] = []\n",
    "# create a list of loggers for each algorithm\n",
    "for i, name in enumerate(algorithm_names):\n",
    "    l = logger.Analyzer(\n",
    "            root=root_folder,  # pyright: ignore[reportArgumentType]\n",
    "            folder_name=folder_name,\n",
    "            algorithm_name=name,\n",
    "            algorithm_info=algorithm_info[i]\n",
    "        )\n",
    "    Loggers.append(\n",
    "       l\n",
    "    )\n",
    "\n"
   ]
  },
  {
   "cell_type": "code",
   "execution_count": 17,
   "id": "b7104e9b",
   "metadata": {},
   "outputs": [],
   "source": [
    "L_random_search = Loggers[0]\n",
    "L_RLS = Loggers[1]\n",
    "L_OnePlusOneEA = Loggers[2]"
   ]
  },
  {
   "cell_type": "markdown",
   "id": "bc113ef9",
   "metadata": {},
   "source": [
    "#### testing randoms search on problem 1"
   ]
  },
  {
   "cell_type": "code",
   "execution_count": null,
   "id": "13ab5e54",
   "metadata": {},
   "outputs": [],
   "source": [
    "p1.attach_logger(L_random_search)\n",
    "algorithm = RandomSearch(budget=budget)\n",
    "run_experiment(problem=p1, \n",
    "            algorithm=algorithm, \n",
    "            num_runs=num_experiments)"
   ]
  },
  {
   "cell_type": "markdown",
   "id": "b11b04cf",
   "metadata": {},
   "source": [
    "#### Experiment with the <i>del</i> keyword"
   ]
  },
  {
   "cell_type": "code",
   "execution_count": 52,
   "id": "983f5ead",
   "metadata": {},
   "outputs": [],
   "source": [
    "L_random_search = Loggers[0]"
   ]
  },
  {
   "cell_type": "code",
   "execution_count": 53,
   "id": "c23eee56",
   "metadata": {},
   "outputs": [],
   "source": [
    "del L_random_search"
   ]
  },
  {
   "cell_type": "code",
   "execution_count": 54,
   "id": "8f68864a",
   "metadata": {},
   "outputs": [
    {
     "data": {
      "text/plain": [
       "<Analyzer my-experiment/run>"
      ]
     },
     "execution_count": 54,
     "metadata": {},
     "output_type": "execute_result"
    }
   ],
   "source": [
    "Loggers[0]"
   ]
  },
  {
   "cell_type": "markdown",
   "id": "11ad9c55",
   "metadata": {},
   "source": [
    "### Run random search on all our problems (fingers crossed!)"
   ]
  },
  {
   "cell_type": "code",
   "execution_count": 35,
   "id": "f826aa43",
   "metadata": {},
   "outputs": [],
   "source": [
    "# we can define our random search algorithm once and reuse it thorughout each loop \n",
    "random_search_algorithm = RandomSearch(budget=budget)"
   ]
  },
  {
   "cell_type": "code",
   "execution_count": 36,
   "id": "cefae9a0",
   "metadata": {},
   "outputs": [
    {
     "name": "stdout",
     "output_type": "stream",
     "text": [
      "================ Begin 1 =======================\n",
      "100.0\n",
      "run: 1 - best found:  70.000\n",
      "run: 2 - best found:  72.000\n",
      "run: 3 - best found:  74.000\n",
      "run: 4 - best found:  70.000\n",
      "run: 5 - best found:  70.000\n",
      "run: 6 - best found:  73.000\n",
      "run: 7 - best found:  71.000\n",
      "run: 8 - best found:  71.000\n",
      "run: 9 - best found:  70.000\n",
      "run: 10 - best found:  72.000\n",
      "================ End 1 =======================\n",
      "================ Begin 2 =======================\n",
      "100.0\n",
      "run: 1 - best found:  16.000\n",
      "run: 2 - best found:  20.000\n",
      "run: 3 - best found:  17.000\n",
      "run: 4 - best found:  15.000\n",
      "run: 5 - best found:  16.000\n",
      "run: 6 - best found:  15.000\n",
      "run: 7 - best found:  16.000\n",
      "run: 8 - best found:  16.000\n",
      "run: 9 - best found:  17.000\n",
      "run: 10 - best found:  18.000\n",
      "================ End 2 =======================\n",
      "================ Begin 3 =======================\n",
      "5050.0\n",
      "run: 1 - best found:  3838.000\n",
      "run: 2 - best found:  3812.000\n",
      "run: 3 - best found:  3791.000\n",
      "run: 4 - best found:  3674.000\n",
      "run: 5 - best found:  3814.000\n",
      "run: 6 - best found:  3782.000\n",
      "run: 7 - best found:  3764.000\n",
      "run: 8 - best found:  3842.000\n",
      "run: 9 - best found:  3736.000\n",
      "run: 10 - best found:  3863.000\n",
      "================ End 3 =======================\n",
      "================ Begin 4 =======================\n",
      "inf\n",
      "run: 1 - best found:  2.275\n",
      "run: 2 - best found:  2.246\n",
      "run: 3 - best found:  2.234\n",
      "run: 4 - best found:  2.411\n",
      "run: 5 - best found:  2.283\n",
      "run: 6 - best found:  2.352\n",
      "run: 7 - best found:  2.468\n",
      "run: 8 - best found:  2.379\n",
      "run: 9 - best found:  2.439\n",
      "run: 10 - best found:  2.222\n",
      "================ End 4 =======================\n",
      "================ Begin 5 =======================\n",
      "10.0\n",
      "run: 1 - best found: -612.000\n",
      "run: 2 - best found: -680.000\n",
      "run: 3 - best found: -602.000\n",
      "run: 4 - best found: -612.000\n",
      "run: 5 - best found: -642.000\n",
      "run: 6 - best found: -602.000\n",
      "run: 7 - best found: -583.000\n",
      "run: 8 - best found: -563.000\n",
      "run: 9 - best found: -641.000\n",
      "run: 10 - best found: -689.000\n",
      "================ End 5 =======================\n",
      "================ Begin 6 =======================\n",
      "20.0\n",
      "run: 1 - best found:  12.400\n",
      "run: 2 - best found:  11.400\n",
      "run: 3 - best found:  11.800\n",
      "run: 4 - best found:  11.400\n",
      "run: 5 - best found:  11.600\n",
      "run: 6 - best found:  11.400\n",
      "run: 7 - best found:  11.400\n",
      "run: 8 - best found:  12.400\n",
      "run: 9 - best found:  12.000\n",
      "run: 10 - best found:  12.400\n",
      "================ End 6 =======================\n",
      "================ Begin 7 =======================\n",
      "inf\n",
      "run: 1 - best found: -0.406\n",
      "run: 2 - best found: -0.412\n",
      "run: 3 - best found: -0.406\n",
      "run: 4 - best found: -0.400\n",
      "run: 5 - best found: -0.391\n",
      "run: 6 - best found: -0.406\n",
      "run: 7 - best found: -0.403\n",
      "run: 8 - best found: -0.404\n",
      "run: 9 - best found: -0.398\n",
      "run: 10 - best found: -0.408\n",
      "================ End 7 =======================\n"
     ]
    }
   ],
   "source": [
    "i = 0\n",
    "for problem in Problems:\n",
    "    print(f\"================ Begin {i+1} =======================\")\n",
    "    L_random_search = Loggers[0]\n",
    "    problem.attach_logger(L_random_search)\n",
    "    # run random search\n",
    "    run_experiment(problem=problem, \n",
    "                algorithm=random_search_algorithm, \n",
    "                num_runs=num_experiments)\n",
    "    print(f\"================ End {i + 1} =======================\")\n",
    "    del L_random_search # this is important to avoid logging issues ...\n",
    "    i += 1"
   ]
  },
  {
   "cell_type": "markdown",
   "id": "78d5f696",
   "metadata": {},
   "source": [
    "<p>An example of what would happen if we put our log outside instead ... </p>\n",
    "<p>One can try to guess its behavior before uncommenting and running it.</p>"
   ]
  },
  {
   "cell_type": "code",
   "execution_count": 47,
   "metadata": {},
   "outputs": [],
   "source": [
    "# i = 0\n",
    "# L_random_search = Loggers[0]\n",
    "# for problem in Problems:\n",
    "#     print(f\"================ Begin {i+1} =======================\")\n",
    "#     problem.attach_logger(L_random_search)\n",
    "#     # run random search\n",
    "#     run_experiment(problem=problem, \n",
    "#                 algorithm=random_search_algorithm, \n",
    "#                 num_runs=num_experiments)\n",
    "#     print(f\"================ End {i + 1} =======================\")\n",
    "#     del L_random_search # this is important to avoid logging issues ...\n",
    "#     i += 1"
   ]
  },
  {
   "cell_type": "markdown",
   "id": "e33cdadc",
   "metadata": {},
   "source": [
    "### <u>Enumerate over all our 3 algorithms</u>\n",
    "\n",
    "<p>It looks like it worked out pretty well. Now we can include the other 2 algorithms into the mix!</p>"
   ]
  },
  {
   "cell_type": "code",
   "execution_count": 18,
   "id": "60b44db6",
   "metadata": {},
   "outputs": [],
   "source": [
    "# first, instantiate each algorithm \n",
    "rls_algorithm = RandomizedLocalSearch(budget=budget)\n",
    "one_plus_one_ea_algorithm = OnePlusOneEA(budget=budget)\n",
    "random_search_algorithm = RandomSearch(budget=budget)\n"
   ]
  },
  {
   "cell_type": "code",
   "execution_count": 19,
   "id": "f0ad332f",
   "metadata": {},
   "outputs": [],
   "source": [
    "Algorithms = [random_search_algorithm, rls_algorithm, one_plus_one_ea_algorithm]"
   ]
  },
  {
   "cell_type": "code",
   "execution_count": 71,
   "id": "cb2c6d85",
   "metadata": {},
   "outputs": [
    {
     "name": "stdout",
     "output_type": "stream",
     "text": [
      "================ Begin Algorithm 1 =======================\n",
      "========== Begin Problem 1 =================\n",
      "100.0\n",
      "run: 1 - best found:  72.000\n",
      "run: 2 - best found:  70.000\n",
      "run: 3 - best found:  70.000\n",
      "run: 4 - best found:  71.000\n",
      "run: 5 - best found:  72.000\n",
      "run: 6 - best found:  74.000\n",
      "run: 7 - best found:  70.000\n",
      "run: 8 - best found:  69.000\n",
      "run: 9 - best found:  72.000\n",
      "run: 10 - best found:  71.000\n",
      "========== End Problem 1 =================\n",
      "========== Begin Problem 2 =================\n",
      "100.0\n",
      "run: 1 - best found:  18.000\n",
      "run: 2 - best found:  16.000\n",
      "run: 3 - best found:  21.000\n",
      "run: 4 - best found:  15.000\n",
      "run: 5 - best found:  16.000\n",
      "run: 6 - best found:  17.000\n",
      "run: 7 - best found:  17.000\n",
      "run: 8 - best found:  18.000\n",
      "run: 9 - best found:  19.000\n",
      "run: 10 - best found:  19.000\n",
      "========== End Problem 2 =================\n",
      "========== Begin Problem 3 =================\n",
      "5050.0\n",
      "run: 1 - best found:  3834.000\n",
      "run: 2 - best found:  3744.000\n",
      "run: 3 - best found:  3753.000\n",
      "run: 4 - best found:  3771.000\n",
      "run: 5 - best found:  3766.000\n",
      "run: 6 - best found:  3881.000\n",
      "run: 7 - best found:  3652.000\n",
      "run: 8 - best found:  3748.000\n",
      "run: 9 - best found:  3738.000\n",
      "run: 10 - best found:  3733.000\n",
      "========== End Problem 3 =================\n",
      "========== Begin Problem 18 =================\n",
      "inf\n",
      "run: 1 - best found:  2.352\n",
      "run: 2 - best found:  2.317\n",
      "run: 3 - best found:  2.291\n",
      "run: 4 - best found:  2.523\n",
      "run: 5 - best found:  2.321\n",
      "run: 6 - best found:  2.383\n",
      "run: 7 - best found:  2.406\n",
      "run: 8 - best found:  2.267\n",
      "run: 9 - best found:  2.406\n",
      "run: 10 - best found:  2.172\n",
      "========== End Problem 18 =================\n",
      "========== Begin Problem 23 =================\n",
      "10.0\n",
      "run: 1 - best found: -631.000\n",
      "run: 2 - best found: -670.000\n",
      "run: 3 - best found: -641.000\n",
      "run: 4 - best found: -680.000\n",
      "run: 5 - best found: -592.000\n",
      "run: 6 - best found: -611.000\n",
      "run: 7 - best found: -603.000\n",
      "run: 8 - best found: -592.000\n",
      "run: 9 - best found: -651.000\n",
      "run: 10 - best found: -622.000\n",
      "========== End Problem 23 =================\n",
      "========== Begin Problem 24 =================\n",
      "20.0\n",
      "run: 1 - best found:  11.600\n",
      "run: 2 - best found:  11.400\n",
      "run: 3 - best found:  11.800\n",
      "run: 4 - best found:  11.600\n",
      "run: 5 - best found:  11.400\n",
      "run: 6 - best found:  11.800\n",
      "run: 7 - best found:  11.600\n",
      "run: 8 - best found:  11.800\n",
      "run: 9 - best found:  12.000\n",
      "run: 10 - best found:  11.800\n",
      "========== End Problem 24 =================\n",
      "========== Begin Problem 25 =================\n",
      "inf\n",
      "run: 1 - best found: -0.408\n",
      "run: 2 - best found: -0.404\n",
      "run: 3 - best found: -0.409\n",
      "run: 4 - best found: -0.391\n",
      "run: 5 - best found: -0.408\n",
      "run: 6 - best found: -0.403\n",
      "run: 7 - best found: -0.397\n",
      "run: 8 - best found: -0.405\n",
      "run: 9 - best found: -0.410\n",
      "run: 10 - best found: -0.410\n",
      "========== End Problem 25 =================\n",
      "=============== End Algorithm 1 =======================\n",
      "================ Begin Algorithm 2 =======================\n",
      "========== Begin Problem 1 =================\n",
      "100.0\n",
      "run: 1 - best found:  100.000\n",
      "run: 2 - best found:  100.000\n",
      "run: 3 - best found:  100.000\n",
      "run: 4 - best found:  100.000\n",
      "run: 5 - best found:  100.000\n",
      "run: 6 - best found:  100.000\n",
      "run: 7 - best found:  100.000\n",
      "run: 8 - best found:  100.000\n",
      "run: 9 - best found:  100.000\n",
      "run: 10 - best found:  100.000\n",
      "========== End Problem 1 =================\n",
      "========== Begin Problem 2 =================\n",
      "100.0\n",
      "run: 1 - best found:  100.000\n",
      "run: 2 - best found:  100.000\n",
      "run: 3 - best found:  100.000\n",
      "run: 4 - best found:  100.000\n",
      "run: 5 - best found:  100.000\n",
      "run: 6 - best found:  100.000\n",
      "run: 7 - best found:  100.000\n",
      "run: 8 - best found:  100.000\n",
      "run: 9 - best found:  100.000\n",
      "run: 10 - best found:  100.000\n",
      "========== End Problem 2 =================\n",
      "========== Begin Problem 3 =================\n",
      "5050.0\n",
      "run: 1 - best found:  5050.000\n",
      "run: 2 - best found:  5050.000\n",
      "run: 3 - best found:  5050.000\n",
      "run: 4 - best found:  5050.000\n",
      "run: 5 - best found:  5050.000\n",
      "run: 6 - best found:  5050.000\n",
      "run: 7 - best found:  5050.000\n",
      "run: 8 - best found:  5050.000\n",
      "run: 9 - best found:  5050.000\n",
      "run: 10 - best found:  5050.000\n",
      "========== End Problem 3 =================\n",
      "========== Begin Problem 18 =================\n",
      "inf\n",
      "run: 1 - best found:  3.608\n",
      "run: 2 - best found:  3.912\n",
      "run: 3 - best found:  3.546\n",
      "run: 4 - best found:  3.925\n",
      "run: 5 - best found:  3.338\n",
      "run: 6 - best found:  3.458\n",
      "run: 7 - best found:  3.577\n",
      "run: 8 - best found:  3.226\n",
      "run: 9 - best found:  3.536\n",
      "run: 10 - best found:  2.994\n",
      "========== End Problem 18 =================\n",
      "========== Begin Problem 23 =================\n",
      "10.0\n",
      "run: 1 - best found:  9.000\n",
      "run: 2 - best found:  8.000\n",
      "run: 3 - best found:  7.000\n",
      "run: 4 - best found:  9.000\n",
      "run: 5 - best found:  8.000\n",
      "run: 6 - best found:  8.000\n",
      "run: 7 - best found:  9.000\n",
      "run: 8 - best found:  8.000\n",
      "run: 9 - best found:  8.000\n",
      "run: 10 - best found:  8.000\n",
      "========== End Problem 23 =================\n",
      "========== Begin Problem 24 =================\n",
      "20.0\n",
      "run: 1 - best found:  16.200\n",
      "run: 2 - best found:  16.000\n",
      "run: 3 - best found:  16.000\n",
      "run: 4 - best found:  16.000\n",
      "run: 5 - best found:  16.400\n",
      "run: 6 - best found:  16.000\n",
      "run: 7 - best found:  16.200\n",
      "run: 8 - best found:  16.400\n",
      "run: 9 - best found:  16.000\n",
      "run: 10 - best found:  16.000\n",
      "========== End Problem 24 =================\n",
      "========== Begin Problem 25 =================\n",
      "inf\n",
      "run: 1 - best found: -0.316\n",
      "run: 2 - best found: -0.311\n",
      "run: 3 - best found: -0.328\n",
      "run: 4 - best found: -0.308\n",
      "run: 5 - best found: -0.312\n",
      "run: 6 - best found: -0.298\n",
      "run: 7 - best found: -0.310\n",
      "run: 8 - best found: -0.301\n",
      "run: 9 - best found: -0.311\n",
      "run: 10 - best found: -0.311\n",
      "========== End Problem 25 =================\n",
      "=============== End Algorithm 2 =======================\n",
      "================ Begin Algorithm 3 =======================\n",
      "========== Begin Problem 1 =================\n",
      "100.0\n",
      "run: 1 - best found:  100.000\n",
      "run: 2 - best found:  100.000\n",
      "run: 3 - best found:  100.000\n",
      "run: 4 - best found:  100.000\n",
      "run: 5 - best found:  100.000\n",
      "run: 6 - best found:  100.000\n",
      "run: 7 - best found:  100.000\n",
      "run: 8 - best found:  100.000\n",
      "run: 9 - best found:  100.000\n",
      "run: 10 - best found:  100.000\n",
      "========== End Problem 1 =================\n",
      "========== Begin Problem 2 =================\n",
      "100.0\n",
      "run: 1 - best found:  100.000\n",
      "run: 2 - best found:  100.000\n",
      "run: 3 - best found:  100.000\n",
      "run: 4 - best found:  100.000\n",
      "run: 5 - best found:  100.000\n",
      "run: 6 - best found:  100.000\n",
      "run: 7 - best found:  100.000\n",
      "run: 8 - best found:  100.000\n",
      "run: 9 - best found:  100.000\n",
      "run: 10 - best found:  100.000\n",
      "========== End Problem 2 =================\n",
      "========== Begin Problem 3 =================\n",
      "5050.0\n",
      "run: 1 - best found:  5050.000\n",
      "run: 2 - best found:  5050.000\n",
      "run: 3 - best found:  5050.000\n",
      "run: 4 - best found:  5050.000\n",
      "run: 5 - best found:  5050.000\n",
      "run: 6 - best found:  5050.000\n",
      "run: 7 - best found:  5050.000\n",
      "run: 8 - best found:  5050.000\n",
      "run: 9 - best found:  5050.000\n",
      "run: 10 - best found:  5050.000\n",
      "========== End Problem 3 =================\n",
      "========== Begin Problem 18 =================\n",
      "inf\n",
      "run: 1 - best found:  3.949\n",
      "run: 2 - best found:  4.318\n",
      "run: 3 - best found:  3.852\n",
      "run: 4 - best found:  4.274\n",
      "run: 5 - best found:  4.146\n",
      "run: 6 - best found:  4.174\n",
      "run: 7 - best found:  3.487\n",
      "run: 8 - best found:  4.521\n",
      "run: 9 - best found:  4.259\n",
      "run: 10 - best found:  3.987\n",
      "========== End Problem 18 =================\n",
      "========== Begin Problem 23 =================\n",
      "10.0\n",
      "run: 1 - best found:  9.000\n",
      "run: 2 - best found:  9.000\n",
      "run: 3 - best found:  9.000\n",
      "run: 4 - best found:  10.000\n",
      "run: 5 - best found:  9.000\n",
      "run: 6 - best found:  10.000\n",
      "run: 7 - best found:  9.000\n",
      "run: 8 - best found:  9.000\n",
      "run: 9 - best found:  10.000\n",
      "run: 10 - best found:  10.000\n",
      "========== End Problem 23 =================\n",
      "========== Begin Problem 24 =================\n",
      "20.0\n",
      "run: 1 - best found:  16.000\n",
      "run: 2 - best found:  16.000\n",
      "run: 3 - best found:  16.200\n",
      "run: 4 - best found:  16.400\n",
      "run: 5 - best found:  16.400\n",
      "run: 6 - best found:  16.200\n",
      "run: 7 - best found:  16.000\n",
      "run: 8 - best found:  16.000\n",
      "run: 9 - best found:  16.200\n",
      "run: 10 - best found:  16.200\n",
      "========== End Problem 24 =================\n",
      "========== Begin Problem 25 =================\n",
      "inf\n",
      "run: 1 - best found: -0.295\n",
      "run: 2 - best found: -0.296\n",
      "run: 3 - best found: -0.293\n",
      "run: 4 - best found: -0.292\n",
      "run: 5 - best found: -0.297\n",
      "run: 6 - best found: -0.295\n",
      "run: 7 - best found: -0.296\n",
      "run: 8 - best found: -0.296\n",
      "run: 9 - best found: -0.292\n",
      "run: 10 - best found: -0.295\n",
      "========== End Problem 25 =================\n",
      "=============== End Algorithm 3 =======================\n"
     ]
    }
   ],
   "source": [
    "i = 0\n",
    "for algorithm in Algorithms:\n",
    "    print(f\"================ Begin Algorithm {i+1} =======================\")\n",
    "    for problem in Problems:\n",
    "        print(f\"========== Begin Problem {problem.meta_data.problem_id} =================\")\n",
    "        L = Loggers[i]\n",
    "        problem.attach_logger(L)\n",
    "        \n",
    "        # run the algorithm\n",
    "        run_experiment(problem=problem, \n",
    "                    algorithm=algorithm, \n",
    "                    num_runs=num_experiments)\n",
    "        del L # this is important to avoid logging issues ...\n",
    "        print(f\"========== End Problem {problem.meta_data.problem_id} =================\")\n",
    "    print(f\"=============== End Algorithm {i+1} =======================\")\n",
    "    i += 1"
   ]
  },
  {
   "cell_type": "code",
   "execution_count": null,
   "id": "8153dd8e",
   "metadata": {},
   "outputs": [],
   "source": []
  },
  {
   "cell_type": "markdown",
   "id": "c0a258c3",
   "metadata": {},
   "source": [
    "#### Using IOH's built-in Experimental setup "
   ]
  },
  {
   "cell_type": "markdown",
   "id": "7125658a",
   "metadata": {},
   "source": [
    "### Starting off with Random Search"
   ]
  },
  {
   "cell_type": "code",
   "execution_count": null,
   "id": "7ff03eb8",
   "metadata": {},
   "outputs": [],
   "source": [
    "experiment_1 = ioh.Experiment(\n",
    "    algorithm = random_search_algorithm,\n",
    "    algorithm_name = random_search_algorithm.name,\n",
    "    algorithm_info = random_search_algorithm.algorithm_info,\n",
    "    fids = [1, 2, 3, 18, 23, 24, 25],\n",
    "    iids = [1], \n",
    "    dims = [100],\n",
    "    reps = 10, # number of independent repetitions or runs for each problem\n",
    "    zip_output=True, \n",
    "    problem_class=ProblemClass.PBO, # type: ignore\n",
    "    output_directory=\"./\",\n",
    "    folder_name=f\"ioh-data-{random_search_algorithm.name}-2nd-exp\",\n",
    "    old_logger=False,  # type: ignore\n",
    ")"
   ]
  },
  {
   "cell_type": "code",
   "execution_count": 26,
   "id": "65b58f99",
   "metadata": {},
   "outputs": [
    {
     "data": {
      "text/plain": [
       "<ioh.Experiment at 0x7699e2047d10>"
      ]
     },
     "execution_count": 26,
     "metadata": {},
     "output_type": "execute_result"
    }
   ],
   "source": [
    "experiment_1.run() "
   ]
  },
  {
   "cell_type": "markdown",
   "id": "7e8d39e5",
   "metadata": {},
   "source": [
    "<p>Result from the analyzer (may have to download and zoom for better view) with the y-axis log-scaled</p>\n",
    "\n",
    "<img src=\"../final/doc/plots/Random_Search.png\"></img>"
   ]
  },
  {
   "cell_type": "markdown",
   "id": "72a3c6de",
   "metadata": {},
   "source": [
    "### With no scaling on both axes"
   ]
  },
  {
   "cell_type": "markdown",
   "id": "41398f47",
   "metadata": {},
   "source": [
    "<img src=\"../final/doc/plots/RandomSearch_No_scaled.png\"></img>"
   ]
  },
  {
   "cell_type": "markdown",
   "id": "f43c4ee4",
   "metadata": {},
   "source": [
    "### With the x-axis log-scaled \n",
    "\n",
    "\n",
    "<img src=\"../final/doc/plots/Random_Search_x_scaled.png\"></img>\n"
   ]
  },
  {
   "cell_type": "code",
   "execution_count": null,
   "id": "2e09ca3f",
   "metadata": {},
   "outputs": [],
   "source": []
  },
  {
   "cell_type": "markdown",
   "id": "93ec7150",
   "metadata": {},
   "source": [
    "#### ><u>Interesting observations from the above set of plots</u>"
   ]
  },
  {
   "cell_type": "markdown",
   "id": "22651e52",
   "metadata": {},
   "source": [
    "<ol>\n",
    "<li>The first observation that we made is that plot 23 and 25 appear to be empty (when the y-axis is scaled). This will be the case for other algorithms as well. This is due to the nature of the problem's objective function's range definition for problems 23 and 25. Both actually started off negative and are maximized to the value 0 over time (function evaluation on the x-axis). This is probably a tell-tale sign that we should stick to applying the log-transmation to the x-axis (or not) only and not to the y-axis. </li>\n",
    "<li>Now, if we don't apply the log-transformation to the x-axis, we wil end up with the 2nd image above. And it would be difficult to assess the performance of our random search algorithm. But the intriguing part here is that each curve (or each plot) looks almost identical to one another! What could be the reason(s)? One's first instinct could be that it is due to the nature of (pseudo-)randomness of the algorithm itself. The fact that it leads to identical plots speaks more to itself than to the individual problems. Indeed, initially, after some number of function evaluations, the algorithm is able to make one lucky guess that, usually, has a good probability of stumbling upon a solution that is significantly better than the first ones but after that, it spends the next 90-95% of function evaluations trying to find a better one, which some times work with the simpler problems such as OneMax, but not with the non-trivial ones such as F23, F24, and F25 where the upper left corner grows sharper and sharper. In other words, it effectively stagnates for the next 90 - 95% of the total number of evalutations.</li>\n",
    "<li>After applying the transformation the x-axis, we can see every curve in every plot clearly. We can observe that the algorithm does not perform on the Leading Ones problem. One reason could be that the problem itself requires the <i>first</i> bits (from the left) to be ones and the algorithm most likely discards any progress made in the current iteration and starts over again in the next one.</li>\n",
    "<li></li>\n",
    "<li></li>\n",
    "</ol>"
   ]
  },
  {
   "cell_type": "code",
   "execution_count": null,
   "id": "b84cdeec",
   "metadata": {},
   "outputs": [],
   "source": []
  },
  {
   "cell_type": "markdown",
   "id": "7b07fc50",
   "metadata": {},
   "source": [
    "### Now RLS "
   ]
  },
  {
   "cell_type": "code",
   "execution_count": 49,
   "id": "6977ba4b",
   "metadata": {},
   "outputs": [],
   "source": [
    "experiment_2 = ioh.Experiment(\n",
    "    algorithm = rls_algorithm,\n",
    "    algorithm_name = rls_algorithm.name,\n",
    "    algorithm_info = rls_algorithm.algorithm_info,\n",
    "    fids = [1, 2, 3, 18, 23, 24, 25],\n",
    "    iids = [1], \n",
    "    dims = [100],\n",
    "    reps = 10, # number of independent repetitions or runs for each problem\n",
    "    zip_output=True, \n",
    "    problem_class=ProblemClass.PBO, # type: ignore\n",
    "    output_directory=\"./\",\n",
    "    folder_name=f\"ioh-data-{rls_algorithm.name}\",\n",
    "    old_logger=True,  # type: ignore\n",
    ")"
   ]
  },
  {
   "cell_type": "code",
   "execution_count": 50,
   "id": "204c7943",
   "metadata": {},
   "outputs": [
    {
     "data": {
      "text/plain": [
       "<ioh.Experiment at 0x7d7be02f6660>"
      ]
     },
     "execution_count": 50,
     "metadata": {},
     "output_type": "execute_result"
    }
   ],
   "source": [
    "experiment_2.run()"
   ]
  },
  {
   "cell_type": "markdown",
   "id": "9c243e11",
   "metadata": {},
   "source": [
    "<img src=\"../final/doc/plots/RLS.png\"></img>"
   ]
  },
  {
   "cell_type": "code",
   "execution_count": null,
   "id": "e012b67c",
   "metadata": {},
   "outputs": [],
   "source": []
  },
  {
   "cell_type": "markdown",
   "id": "2f4e108c",
   "metadata": {},
   "source": [
    "### Finally (1+1)-EA"
   ]
  },
  {
   "cell_type": "code",
   "execution_count": 52,
   "id": "20567026",
   "metadata": {},
   "outputs": [],
   "source": [
    "experiment_3 = ioh.Experiment(\n",
    "    algorithm = one_plus_one_ea_algorithm,\n",
    "    algorithm_name = one_plus_one_ea_algorithm.name,\n",
    "    algorithm_info = one_plus_one_ea_algorithm.algorithm_info,\n",
    "    fids = [1, 2, 3, 18, 23, 24, 25],\n",
    "    iids = [1], \n",
    "    dims = [100],\n",
    "    reps = 10, # number of independent repetitions or runs for each problem\n",
    "    zip_output=True, \n",
    "    problem_class=ProblemClass.PBO, # type: ignore\n",
    "    output_directory=\"./\",\n",
    "    folder_name= f\"ioh-data-{one_plus_one_ea_algorithm.name}\",\n",
    "    old_logger=True,  # type: ignore\n",
    ")"
   ]
  },
  {
   "cell_type": "code",
   "execution_count": 53,
   "id": "aef3bc80",
   "metadata": {},
   "outputs": [
    {
     "data": {
      "text/plain": [
       "<ioh.Experiment at 0x7d7be02f4bf0>"
      ]
     },
     "execution_count": 53,
     "metadata": {},
     "output_type": "execute_result"
    }
   ],
   "source": [
    "experiment_3.run()"
   ]
  },
  {
   "cell_type": "markdown",
   "id": "ea4ad5eb",
   "metadata": {},
   "source": [
    "<img src=\"../final/doc/plots/OnePlusOneEA.png\"></img>"
   ]
  },
  {
   "cell_type": "markdown",
   "id": "1b6de13a",
   "metadata": {},
   "source": [
    "<p>After some more experimental work, the Experimen() class above runs a bit quicker than the loop-based one that I bootstrapped above. But the good news is that both methods work (they practically output the same kind of results that can be pushed into the IOH analyzer!)</p>"
   ]
  },
  {
   "cell_type": "markdown",
   "id": "2937b6ee",
   "metadata": {},
   "source": [
    "It turns out that the IOHAnalyzer is more capable that I had first imagined. It smartly (recursively) walks through output files generated the `Experiment()` class. Below lies the plot results: "
   ]
  },
  {
   "cell_type": "markdown",
   "id": "81bc4d4e",
   "metadata": {},
   "source": [
    "# <b><u>STOP POINT FOR RESULTS</u></b>"
   ]
  },
  {
   "cell_type": "code",
   "execution_count": null,
   "id": "456695f8",
   "metadata": {},
   "outputs": [],
   "source": []
  },
  {
   "cell_type": "code",
   "execution_count": null,
   "id": "f787471c",
   "metadata": {},
   "outputs": [],
   "source": []
  },
  {
   "cell_type": "markdown",
   "id": "079c4902",
   "metadata": {},
   "source": [
    "## For problem 1: OneMax"
   ]
  },
  {
   "cell_type": "markdown",
   "id": "43c56071",
   "metadata": {},
   "source": [
    "### <u>Analyses and explanations of the plots</u>\n",
    "\n",
    "<p>The analyses consist of informal (but hopefully educated) guesses and judgements based on the problem constraints and parameters. This is still a draft because the finalized version will be stored in .txt files.</p>"
   ]
  },
  {
   "cell_type": "markdown",
   "id": "17f38d0b",
   "metadata": {},
   "source": [
    "<img src=\"../final_temporary/doc/plots/Scaled_x_y/fid1.png\"></img>"
   ]
  },
  {
   "cell_type": "markdown",
   "id": "53a4a4cf",
   "metadata": {},
   "source": [
    "- In hindsight, this could be a good draft for the entire 7 plots! The only things missing are some numerical analyses... \n",
    "\n",
    "<br>\n",
    "<p>Let us begin with problem (with fid) 1. It is worth noting that the x-axis has been log-scaled and y-axis stays the same. Although the trend is expected, it is worthwhile to go through it in details (as we should always do). Right away, we can observe that RandomSearch performs the worst out of the other two. Random search basically guesses the solution (randomly) and for the first few number of iterations/function evaluations, it may get lucky and stumble upon a good solution (in this case, one with the highest number of ones). In fact, right after the first evaluation, it achieves a better fitness than RLS. However, from the 10th evaluation onwards, the its random guessing just does not cut it. It gets surpassed by both algorithms by the 30th evaluation. On the other hand, (1+1)-EA initially got an upper hand over RLS until the 20th evaluation which it then gets supplanted and just cannot catch up afterwards. One reason for this is that RLS  is practically perfect for our OneMax problem -- it only accepts improvement after flipping, although random, bit. Whereas, (1+1)-EA attempts to flip all N = 100 bits at a time (with uniform probability 1/n = 0.01), it will inadvertently mis-flip some bits from 1 to 0 early on but as time goes on, it learns to flip less bits, being more careful, and practically behaves like RLS towards the end (hence they converge after the 1000th evaluation).</p>"
   ]
  },
  {
   "cell_type": "markdown",
   "id": "0198d68d",
   "metadata": {},
   "source": [
    "## For problem 2: "
   ]
  },
  {
   "cell_type": "markdown",
   "id": "48ec51dd",
   "metadata": {},
   "source": [
    "<img src=\"../final_temporary/doc/plots/Scaled_x_y/fid2.png\"></img>"
   ]
  },
  {
   "cell_type": "markdown",
   "id": "b09964f7",
   "metadata": {},
   "source": [
    "<u>Explanations:</u>\n",
    "\n",
    "\n",
    "\n",
    "<p>Like in the first plots, we will see that Random Search exudes very similar behavior to how we described in the case of OneMax. </p>"
   ]
  },
  {
   "cell_type": "markdown",
   "id": "b824d026",
   "metadata": {},
   "source": [
    "## Problem 3"
   ]
  },
  {
   "cell_type": "markdown",
   "id": "1f2de74c",
   "metadata": {},
   "source": [
    "<img src=\"../final_temporary/doc/plots/Scaled_x_y/fid3.png\"></img>"
   ]
  },
  {
   "cell_type": "code",
   "execution_count": null,
   "id": "5397ffb2",
   "metadata": {},
   "outputs": [],
   "source": []
  },
  {
   "cell_type": "markdown",
   "id": "bd7f9263",
   "metadata": {},
   "source": [
    "## Problem 4"
   ]
  },
  {
   "cell_type": "markdown",
   "id": "89f8d6f1",
   "metadata": {},
   "source": [
    "<img src=\"../final_temporary/doc/plots/Scaled_x_y/fid4.png\"></img>"
   ]
  },
  {
   "cell_type": "code",
   "execution_count": null,
   "id": "84cc71e6",
   "metadata": {},
   "outputs": [],
   "source": []
  },
  {
   "cell_type": "code",
   "execution_count": null,
   "id": "978919e6",
   "metadata": {},
   "outputs": [],
   "source": []
  },
  {
   "cell_type": "markdown",
   "id": "22cf0551",
   "metadata": {},
   "source": [
    "## Problem 18 "
   ]
  },
  {
   "cell_type": "markdown",
   "id": "6ec340ac",
   "metadata": {},
   "source": [
    "<img src=\"../final_temporary/doc/plots/Scaled_x_y/fid18.png\"></img>"
   ]
  },
  {
   "cell_type": "code",
   "execution_count": null,
   "id": "64917b26",
   "metadata": {},
   "outputs": [],
   "source": []
  },
  {
   "cell_type": "markdown",
   "id": "5ca60c89",
   "metadata": {},
   "source": [
    "## Problem 23 "
   ]
  },
  {
   "cell_type": "markdown",
   "id": "a242dd78",
   "metadata": {},
   "source": [
    "<img src=\"../final_temporary/doc/plots/Scaled_x/fid23.png\"></img>"
   ]
  },
  {
   "cell_type": "code",
   "execution_count": null,
   "id": "c9788936",
   "metadata": {},
   "outputs": [],
   "source": []
  },
  {
   "cell_type": "code",
   "execution_count": null,
   "id": "fc273007",
   "metadata": {},
   "outputs": [],
   "source": []
  },
  {
   "cell_type": "markdown",
   "id": "9e0d01d4",
   "metadata": {},
   "source": [
    "## Problem 24 "
   ]
  },
  {
   "cell_type": "markdown",
   "id": "3cbd62bb",
   "metadata": {},
   "source": [
    "<img src=\"../final_temporary/doc/plots/Scaled_x/fid24.png\"></img>"
   ]
  },
  {
   "cell_type": "code",
   "execution_count": null,
   "id": "715c9288",
   "metadata": {},
   "outputs": [],
   "source": []
  },
  {
   "cell_type": "markdown",
   "id": "4a406664",
   "metadata": {},
   "source": [
    "## Problem 25"
   ]
  },
  {
   "cell_type": "markdown",
   "id": "7347435a",
   "metadata": {},
   "source": [
    "<img src=\"../final_temporary/doc/plots/Scaled_x/fid25.png\"></img>"
   ]
  },
  {
   "cell_type": "code",
   "execution_count": null,
   "id": "23ab9bf0",
   "metadata": {},
   "outputs": [],
   "source": []
  },
  {
   "cell_type": "code",
   "execution_count": null,
   "id": "4191497e",
   "metadata": {},
   "outputs": [],
   "source": []
  }
 ],
 "metadata": {
  "kernelspec": {
   "display_name": "PBO",
   "language": "python",
   "name": "python3"
  },
  "language_info": {
   "codemirror_mode": {
    "name": "ipython",
    "version": 3
   },
   "file_extension": ".py",
   "mimetype": "text/x-python",
   "name": "python",
   "nbconvert_exporter": "python",
   "pygments_lexer": "ipython3",
   "version": "3.12.10"
  }
 },
 "nbformat": 4,
 "nbformat_minor": 5
}
